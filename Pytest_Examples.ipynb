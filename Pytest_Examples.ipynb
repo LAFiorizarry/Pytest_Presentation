{
 "cells": [
  {
   "cell_type": "markdown",
   "metadata": {
    "slideshow": {
     "slide_type": "slide"
    }
   },
   "source": [
    "# Pytest Info\n",
    "\n"
   ]
  },
  {
   "cell_type": "markdown",
   "metadata": {
    "slideshow": {
     "slide_type": "slide"
    }
   },
   "source": [
    "## Pytest.org for information and examples\n",
    "\n",
    "## Install using pip"
   ]
  },
  {
   "cell_type": "code",
   "execution_count": 25,
   "metadata": {
    "slideshow": {
     "slide_type": "skip"
    }
   },
   "outputs": [],
   "source": [
    "from IPython.core.interactiveshell import InteractiveShell\n",
    "InteractiveShell.ast_node_interactivity = \"all\""
   ]
  },
  {
   "cell_type": "markdown",
   "metadata": {
    "slideshow": {
     "slide_type": "slide"
    }
   },
   "source": [
    "### To run:\n",
    "\\\\$pytest test_file.py (run individual test file)\n",
    "\n",
    "\\\\$pytest (to run all test files in folder)\n",
    "- Files start with test_ or _test\n",
    "- Functions with test_\n",
    "- Classes that start with Test, methods are test_\n"
   ]
  },
  {
   "cell_type": "markdown",
   "metadata": {
    "slideshow": {
     "slide_type": "slide"
    }
   },
   "source": [
    "## Useful Things\n",
    "- fixtures\n",
    "- temporary files/directories\n"
   ]
  },
  {
   "cell_type": "markdown",
   "metadata": {
    "slideshow": {
     "slide_type": "slide"
    }
   },
   "source": [
    "## Cirle.py Example\n",
    "\n"
   ]
  },
  {
   "cell_type": "code",
   "execution_count": 26,
   "metadata": {
    "slideshow": {
     "slide_type": "fragment"
    }
   },
   "outputs": [
    {
     "data": {
      "text/plain": [
       "5"
      ]
     },
     "execution_count": 26,
     "metadata": {},
     "output_type": "execute_result"
    },
    {
     "data": {
      "text/plain": [
       "10"
      ]
     },
     "execution_count": 26,
     "metadata": {},
     "output_type": "execute_result"
    },
    {
     "data": {
      "text/plain": [
       "78.53981633974483"
      ]
     },
     "execution_count": 26,
     "metadata": {},
     "output_type": "execute_result"
    },
    {
     "data": {
      "text/plain": [
       "78.53981633974483"
      ]
     },
     "execution_count": 26,
     "metadata": {},
     "output_type": "execute_result"
    }
   ],
   "source": [
    "from Circle import Circle\n",
    "from math import pi\n",
    "c = Circle(5)\n",
    "c.radius\n",
    "c.diameter\n",
    "c.area\n",
    "pi * 5 * 5"
   ]
  },
  {
   "cell_type": "markdown",
   "metadata": {
    "slideshow": {
     "slide_type": "slide"
    }
   },
   "source": [
    "Go look at test_Circle.py"
   ]
  },
  {
   "cell_type": "code",
   "execution_count": 27,
   "metadata": {
    "slideshow": {
     "slide_type": "slide"
    }
   },
   "outputs": [
    {
     "name": "stdout",
     "output_type": "stream",
     "text": [
      "============================= test session starts =============================\n",
      "platform win32 -- Python 3.7.3, pytest-5.0.1, py-1.8.0, pluggy-0.12.0\n",
      "rootdir: C:\\Users\\Laura.Fiorentino\\Documents\\Presentations\\2022\\CodeGroup_Pytest\n",
      "plugins: arraydiff-0.3, doctestplus-0.3.0, openfiles-0.3.2, remotedata-0.3.1\n",
      "collected 11 items\n",
      "\n",
      "test_Circle.py FFF........                                               [100%]\n",
      "\n",
      "================================== FAILURES ===================================\n",
      "_________________________________ test_radius _________________________________\n",
      "\n",
      "    def test_radius():\n",
      "        c = Circle(5)\n",
      ">       assert c.radius == 4\n",
      "E       assert 5 == 4\n",
      "E        +  where 5 = Circle(5).radius\n",
      "\n",
      "test_Circle.py:15: AssertionError\n",
      "________________________________ test_diameter ________________________________\n",
      "\n",
      "    def test_diameter():\n",
      "        c = Circle(5)\n",
      ">       assert c.diameter == 9\n",
      "E       assert 10 == 9\n",
      "E        +  where 10 = Circle(5).diameter\n",
      "\n",
      "test_Circle.py:20: AssertionError\n",
      "__________________________________ test_area __________________________________\n",
      "\n",
      "    def test_area():\n",
      "        c = Circle(5)\n",
      ">       assert c.area == 4 * 5 * pi\n",
      "E       assert 78.53981633974483 == ((4 * 5) * 3.141592653589793)\n",
      "E        +  where 78.53981633974483 = Circle(5).area\n",
      "\n",
      "test_Circle.py:25: AssertionError\n",
      "===================== 3 failed, 8 passed in 0.12 seconds ======================\n"
     ]
    }
   ],
   "source": [
    "!pytest test_Circle.py"
   ]
  },
  {
   "cell_type": "markdown",
   "metadata": {
    "slideshow": {
     "slide_type": "slide"
    }
   },
   "source": [
    "Show ssp_fxns.py and test_ssp_fxns.py"
   ]
  },
  {
   "cell_type": "code",
   "execution_count": 35,
   "metadata": {
    "slideshow": {
     "slide_type": "slide"
    }
   },
   "outputs": [
    {
     "name": "stdout",
     "output_type": "stream",
     "text": [
      "============================= test session starts =============================\n",
      "platform win32 -- Python 3.7.3, pytest-5.0.1, py-1.8.0, pluggy-0.12.0 -- C:\\Users\\Laura.Fiorentino\\AppData\\Local\\Continuum\\anaconda3\\python.exe\n",
      "cachedir: .pytest_cache\n",
      "rootdir: C:\\Users\\Laura.Fiorentino\\Documents\\Presentations\\2022\\CodeGroup_Pytest\n",
      "plugins: arraydiff-0.3, doctestplus-0.3.0, openfiles-0.3.2, remotedata-0.3.1\n",
      "collecting ... collected 5 items\n",
      "\n",
      "test_ssp_fxns.py::test_openfile ERROR                                    [ 20%]\n",
      "test_ssp_fxns.py::test_bad PASSED                                        [ 40%]\n",
      "test_ssp_fxns.py::test_good PASSED                                       [ 60%]\n",
      "test_ssp_fxns.py::test_timeformat PASSED                                 [ 80%]\n",
      "test_ssp_fxns.py::test_writecsv PASSED                                   [100%]\n",
      "\n",
      "=================================== ERRORS ====================================\n",
      "_______________________ ERROR at setup of test_openfile _______________________\n",
      "file C:\\Users\\Laura.Fiorentino\\Documents\\Presentations\\2022\\CodeGroup_Pytest\\test_ssp_fxns.py, line 27\n",
      "  def test_openfile(example_ssp_dict, example_keys):\n",
      "E       fixture 'example_keys' not found\n",
      ">       available fixtures: cache, capfd, capfdbinary, caplog, capsys, capsysbinary, doctest_namespace, example_ssp_dict, monkeypatch, pytestconfig, record_property, record_testsuite_property, record_xml_attribute, recwarn, tmp_path, tmp_path_factory, tmpdir, tmpdir_factory\n",
      ">       use 'pytest --fixtures [testpath]' for help on them.\n",
      "\n",
      "C:\\Users\\Laura.Fiorentino\\Documents\\Presentations\\2022\\CodeGroup_Pytest\\test_ssp_fxns.py:27\n",
      "====================== 4 passed, 1 error in 0.18 seconds ======================\n"
     ]
    }
   ],
   "source": [
    "!pytest test_ssp_fxns.py -v\n"
   ]
  },
  {
   "cell_type": "code",
   "execution_count": null,
   "metadata": {},
   "outputs": [],
   "source": []
  }
 ],
 "metadata": {
  "celltoolbar": "Slideshow",
  "kernelspec": {
   "display_name": "Python 3",
   "language": "python",
   "name": "python3"
  },
  "language_info": {
   "codemirror_mode": {
    "name": "ipython",
    "version": 3
   },
   "file_extension": ".py",
   "mimetype": "text/x-python",
   "name": "python",
   "nbconvert_exporter": "python",
   "pygments_lexer": "ipython3",
   "version": "3.7.3"
  }
 },
 "nbformat": 4,
 "nbformat_minor": 2
}
