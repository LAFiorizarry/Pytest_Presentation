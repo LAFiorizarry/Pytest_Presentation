{
 "cells": [
  {
   "cell_type": "code",
   "execution_count": 17,
   "metadata": {},
   "outputs": [
    {
     "name": "stdout",
     "output_type": "stream",
     "text": [
      "============================= test session starts =============================\n",
      "platform win32 -- Python 3.7.3, pytest-5.0.1, py-1.8.0, pluggy-0.12.0\n",
      "rootdir: C:\\Users\\Laura.Fiorentino\\Documents\\Presentations\\2022\\CodeGroup_Pytest\n",
      "plugins: arraydiff-0.3, doctestplus-0.3.0, openfiles-0.3.2, remotedata-0.3.1\n",
      "collected 4 items\n",
      "\n",
      "test_ssp_fxns.py ....                                                    [100%]\n",
      "\n",
      "========================== 4 passed in 0.17 seconds ===========================\n"
     ]
    }
   ],
   "source": [
    "!pytest test_ssp_fxns.py"
   ]
  }
 ],
 "metadata": {
  "kernelspec": {
   "display_name": "Python 3",
   "language": "python",
   "name": "python3"
  },
  "language_info": {
   "codemirror_mode": {
    "name": "ipython",
    "version": 3
   },
   "file_extension": ".py",
   "mimetype": "text/x-python",
   "name": "python",
   "nbconvert_exporter": "python",
   "pygments_lexer": "ipython3",
   "version": "3.7.3"
  }
 },
 "nbformat": 4,
 "nbformat_minor": 2
}
